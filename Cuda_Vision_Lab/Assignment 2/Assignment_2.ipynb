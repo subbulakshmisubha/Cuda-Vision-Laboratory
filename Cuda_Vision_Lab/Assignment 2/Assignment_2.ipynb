{
  "nbformat": 4,
  "nbformat_minor": 0,
  "metadata": {
    "colab": {
      "name": "Assignment_2.ipynb",
      "version": "0.3.2",
      "provenance": []
    },
    "kernelspec": {
      "display_name": "Python 2",
      "language": "python",
      "name": "python2"
    }
  },
  "cells": [
    {
      "metadata": {
        "id": "7iERWhRl7sEC",
        "colab_type": "code",
        "colab": {},
        "outputId": "9afec8ae-9cf0-4dbf-bc6e-0c98982e8604"
      },
      "cell_type": "code",
      "source": [
        "import torch\n",
        "import torch.nn as nn\n",
        "import torchvision.transforms as transforms\n",
        "import torchvision.datasets as dsets\n",
        "from torch.autograd import Variable\n",
        "import random as rand\n",
        "import matplotlib.pyplot as plt \n",
        "\n",
        "\n",
        "#1: LOAD THE TEST AND TRAIN SET\n",
        "\n",
        "train_dataset = dsets.CIFAR10('./data', train=True, download=True, transform=transforms.ToTensor())\n",
        "test_dataset = dsets.CIFAR10('./data', train=False, download=True, transform=transforms.ToTensor())\n"
      ],
      "execution_count": 0,
      "outputs": [
        {
          "output_type": "stream",
          "text": [
            "Files already downloaded and verified\n",
            "Files already downloaded and verified\n"
          ],
          "name": "stdout"
        }
      ]
    },
    {
      "metadata": {
        "id": "xu2yltyy7sEJ",
        "colab_type": "code",
        "colab": {}
      },
      "cell_type": "code",
      "source": [
        "\n",
        "#2: LOOPING OVER THE DATASET\n",
        "\n",
        "batch_size = 200\n",
        "n_iters = 5000\n",
        "number_of_epochs =int(n_iters / (len(train_dataset) / batch_size))\n",
        " \n",
        "train_loader = torch.utils.data.DataLoader(dataset=train_dataset, \n",
        "                                           batch_size=batch_size, \n",
        "                                           shuffle=True)\n",
        " \n",
        "test_loader = torch.utils.data.DataLoader(dataset=test_dataset, \n",
        "                                          batch_size=batch_size, \n",
        "                                          shuffle=False)\n",
        " "
      ],
      "execution_count": 0,
      "outputs": []
    },
    {
      "metadata": {
        "id": "fNbjLT6P7sEO",
        "colab_type": "code",
        "colab": {}
      },
      "cell_type": "code",
      "source": [
        "#3: CREATE THE LOGISTIC REGRESSION MODEL CLASS\n",
        "class LogisticRegressionModel(nn.Module):\n",
        "    def __init__(self, input_dimension, output_dimension):\n",
        "        super(LogisticRegressionModel, self).__init__()\n",
        "        self.linear1 = nn.Linear(input_dimension, 500)\n",
        "        self.linear2 = nn.Linear(500, output_dimension)\n",
        "        self.relu = nn.ReLU()\n",
        "     \n",
        "    def forward(self, x):\n",
        "        out = self.relu(self.linear1(x))\n",
        "        out = self.linear2(out)\n",
        "        return out"
      ],
      "execution_count": 0,
      "outputs": []
    },
    {
      "metadata": {
        "id": "s8mKbgun7sES",
        "colab_type": "code",
        "colab": {}
      },
      "cell_type": "code",
      "source": [
        "#CALLING THE LOGISTIC REGRESSION CLASS MODEL WITH VALUES FOR THE INPUT AND OUTPUT DIMENSIONS\n",
        "input_dimension = 3*32*32\n",
        "output_dimension = 10\n",
        " \n",
        "model = LogisticRegressionModel(input_dimension, output_dimension)"
      ],
      "execution_count": 0,
      "outputs": []
    },
    {
      "metadata": {
        "id": "5ubbypLS7sEX",
        "colab_type": "code",
        "colab": {}
      },
      "cell_type": "code",
      "source": [
        "#5 CALCULATING THE CROSS ENTROPY\n",
        "\n",
        "criterion = nn.CrossEntropyLoss()"
      ],
      "execution_count": 0,
      "outputs": []
    },
    {
      "metadata": {
        "id": "6hlG34487sEd",
        "colab_type": "code",
        "colab": {}
      },
      "cell_type": "code",
      "source": [
        "\n",
        "#6 call the optimizer with a fixed learning rate\n",
        "\n",
        "\n",
        "learning_rate = 0.08\n",
        " \n",
        "optimizer = torch.optim.SGD(model.parameters(), lr=learning_rate)"
      ],
      "execution_count": 0,
      "outputs": []
    },
    {
      "metadata": {
        "id": "jhE0Ryow7sEg",
        "colab_type": "code",
        "colab": {},
        "outputId": "59727cb8-8203-4051-ef9c-d9efcb6900c0"
      },
      "cell_type": "code",
      "source": [
        "\n",
        "#7 TRAIN THE MODEL\n",
        "\n",
        "iter = 0\n",
        "epoch_loss=[]\n",
        "iteration_no=[]\n",
        "for epoch in range(number_of_epochs):\n",
        "    for i, (img, labels) in enumerate(train_loader):\n",
        "         \n",
        "        img = Variable(img.view(-1, 3*32*32))\n",
        "        labels = Variable(labels)\n",
        "         \n",
        "        # the gradients are cleared with respect to the parameters\n",
        "        optimizer.zero_grad()\n",
        "         \n",
        "        # get the output from the model\n",
        "        outputs = model(img)\n",
        "         \n",
        "        # Calculate the loss\n",
        "        loss = criterion(outputs, labels)#\n",
        "         \n",
        "        # the gradients are retrieved\n",
        "        loss.backward()\n",
        "         \n",
        "        # Updating parameters\n",
        "        optimizer.step()\n",
        "         \n",
        "        iter += 1\n",
        "         \n",
        "        if iter % 200 == 0:\n",
        "            # Calculate Accuracy         \n",
        "            correct = 0\n",
        "            total = 0\n",
        "            # Iterate through test dataset\n",
        "            for img, labels in test_loader:\n",
        "                                \n",
        "                img = Variable(images.view(-1, 3*32*32))\n",
        "                 \n",
        "                #To get logits/output\n",
        "                outputs = model(img)\n",
        "                 \n",
        "                # Get predictions from the maximum value\n",
        "                _, predicted = torch.max(outputs.data, 1)\n",
        "                 \n",
        "                \n",
        "                total += labels.size(0)\n",
        "                 \n",
        "                \n",
        "                correct += (predicted.cpu() == labels.cpu()).sum()\n",
        "            #calculating the accuracy          \n",
        "            accuracy = 100 * correct / total\n",
        "             \n",
        "            # Print Loss\n",
        "            print('Iteration: {}. Loss: {}. Accuracy: {}'.format(iter, loss.data[0], accuracy))\n",
        "            epoch_loss.append(loss.data[0])\n",
        "            iteration_no.append(iter)\n",
        "# plotting the points  \n",
        "plt.plot(iteration_no,epoch_loss) \n",
        "  \n",
        "# naming the x axis \n",
        "plt.xlabel('number of iterations') \n",
        "# naming the y axis \n",
        "plt.ylabel('epoch loss') \n",
        "  \n",
        "# giving a title to my graph \n",
        "plt.title('learning curve') \n",
        "  \n",
        "# function to show the plot \n",
        "plt.show()             \n",
        "\n",
        "\n",
        "\n",
        "\n",
        "\n",
        "\n",
        "####the best hyperparameters found are the number of hidden neurons and learning rate"
      ],
      "execution_count": 0,
      "outputs": [
        {
          "output_type": "stream",
          "text": [
            "/home/manoj/anaconda2/lib/python2.7/site-packages/ipykernel_launcher.py:59: UserWarning: invalid index of a 0-dim tensor. This will be an error in PyTorch 0.5. Use tensor.item() to convert a 0-dim tensor to a Python number\n",
            "/home/manoj/anaconda2/lib/python2.7/site-packages/ipykernel_launcher.py:60: UserWarning: invalid index of a 0-dim tensor. This will be an error in PyTorch 0.5. Use tensor.item() to convert a 0-dim tensor to a Python number\n"
          ],
          "name": "stderr"
        },
        {
          "output_type": "stream",
          "text": [
            "Iteration: 200. Loss: 1.92900156975. Accuracy: 34\n",
            "Iteration: 400. Loss: 1.93885052204. Accuracy: 36\n",
            "Iteration: 600. Loss: 1.72069132328. Accuracy: 38\n",
            "Iteration: 800. Loss: 1.64818096161. Accuracy: 41\n",
            "Iteration: 1000. Loss: 1.69943141937. Accuracy: 43\n",
            "Iteration: 1200. Loss: 1.55988764763. Accuracy: 44\n",
            "Iteration: 1400. Loss: 1.5512816906. Accuracy: 44\n",
            "Iteration: 1600. Loss: 1.64937853813. Accuracy: 44\n",
            "Iteration: 1800. Loss: 1.55699694157. Accuracy: 43\n",
            "Iteration: 2000. Loss: 1.40170121193. Accuracy: 43\n",
            "Iteration: 2200. Loss: 1.5075442791. Accuracy: 47\n",
            "Iteration: 2400. Loss: 1.48262786865. Accuracy: 44\n",
            "Iteration: 2600. Loss: 1.43952298164. Accuracy: 47\n",
            "Iteration: 2800. Loss: 1.3860244751. Accuracy: 45\n",
            "Iteration: 3000. Loss: 1.39092981815. Accuracy: 49\n",
            "Iteration: 3200. Loss: 1.30841457844. Accuracy: 47\n",
            "Iteration: 3400. Loss: 1.37712657452. Accuracy: 48\n",
            "Iteration: 3600. Loss: 1.44597387314. Accuracy: 49\n",
            "Iteration: 3800. Loss: 1.27307116985. Accuracy: 49\n",
            "Iteration: 4000. Loss: 1.46487903595. Accuracy: 49\n",
            "Iteration: 4200. Loss: 1.30503809452. Accuracy: 49\n",
            "Iteration: 4400. Loss: 1.35069489479. Accuracy: 49\n",
            "Iteration: 4600. Loss: 1.36867141724. Accuracy: 51\n",
            "Iteration: 4800. Loss: 1.47612810135. Accuracy: 46\n",
            "Iteration: 5000. Loss: 1.30794489384. Accuracy: 49\n"
          ],
          "name": "stdout"
        },
        {
          "output_type": "display_data",
          "data": {
            "image/png": "[encoded data removed]",
            "text/plain": [
              "<Figure size 432x288 with 1 Axes>"
            ]
          },
          "metadata": {
            "tags": [],
            "needs_background": "light"
          }
        }
      ]
    },
    {
      "metadata": {
        "id": "EkUpT_Wo7sEm",
        "colab_type": "code",
        "colab": {}
      },
      "cell_type": "code",
      "source": [
        "##k fold cross validation\n",
        "\n",
        "\n",
        "import numpy as np\n",
        "from torch.utils.data.sampler import SubsetRandomSampler\n",
        "from torch.utils.data.sampler import SubsetRandomSampler\n",
        "indices = list(range(len(train_dataset))) # start with all the indices in training set\n",
        "split = 10000 # defining the split size\n",
        "\n",
        "# Define your batch_size\n",
        "batch_size = 200\n",
        "\n",
        "# Random, non-contiguous split\n",
        "validation_idx = np.random.choice(indices, size=split, replace=False)\n",
        "train_idx = list(set(indices) - set(validation_idx))\n",
        "\n",
        "##sampling the test and train set by subset random sampling\n",
        "#train loader for training the model using k fold\n",
        "train_sampler = SubsetRandomSampler(train_idx)\n",
        "validation_sampler = SubsetRandomSampler(validation_idx)\n",
        "\n",
        "train_loader = torch.utils.data.DataLoader(dataset=train_dataset, \n",
        "                batch_size=batch_size, sampler=train_sampler)\n",
        "validation_loader = torch.utils.data.DataLoader(dataset=train_dataset, \n",
        "                batch_size=1, sampler=validation_sampler)\n",
        "\n",
        "#test loader for training the model using k fold\n",
        "test_loader = torch.utils.data.DataLoader(dataset=test_dataset, \n",
        "                                          batch_size=1,\n",
        "                                          shuffle=False)\n"
      ],
      "execution_count": 0,
      "outputs": []
    },
    {
      "metadata": {
        "id": "1rWwjAxO7sEr",
        "colab_type": "code",
        "colab": {}
      },
      "cell_type": "code",
      "source": [
        ""
      ],
      "execution_count": 0,
      "outputs": []
    }
  ]
}