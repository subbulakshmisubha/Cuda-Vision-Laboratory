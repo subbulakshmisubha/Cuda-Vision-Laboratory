{
  "nbformat": 4,
  "nbformat_minor": 0,
  "metadata": {
    "colab": {
      "name": "Assignment_4.ipynb",
      "version": "0.3.2",
      "provenance": [],
      "collapsed_sections": []
    },
    "kernelspec": {
      "name": "python3",
      "display_name": "Python 3"
    },
    "accelerator": "GPU"
  },
  "cells": [
    {
      "metadata": {
        "id": "dnywYa4XH2YC",
        "colab_type": "text"
      },
      "cell_type": "markdown",
      "source": [
        "Assignment 4 --"
      ]
    },
    {
      "metadata": {
        "id": "dRyxFTbcY7xX",
        "colab_type": "code",
        "colab": {}
      },
      "cell_type": "code",
      "source": [
        "# http://pytorch.org/\n",
        "from os.path import exists\n",
        "from wheel.pep425tags import get_abbr_impl, get_impl_ver, get_abi_tag\n",
        "platform = '{}{}-{}'.format(get_abbr_impl(), get_impl_ver(), get_abi_tag())\n",
        "cuda_output = !ldconfig -p|grep cudart.so|sed -e 's/.*\\.\\([0-9]*\\)\\.\\([0-9]*\\)$/cu\\1\\2/'\n",
        "accelerator = cuda_output[0] if exists('/dev/nvidia0') else 'cpu'\n",
        "\n",
        "!pip install -q http://download.pytorch.org/whl/{accelerator}/torch-0.4.1-{platform}-linux_x86_64.whl torchvision\n",
        "import torch"
      ],
      "execution_count": 0,
      "outputs": []
    },
    {
      "metadata": {
        "id": "Ew5FfkcfH2YG",
        "colab_type": "code",
        "outputId": "f082817e-59d0-4b78-8a8c-a1321a0d5d5a",
        "colab": {
          "base_uri": "https://localhost:8080/",
          "height": 292
        }
      },
      "cell_type": "code",
      "source": [
        "import torch\n",
        "import torch.nn as nn\n",
        "import torchvision.transforms as transforms\n",
        "import torchvision.datasets as dsets\n",
        "from torch.autograd import Variable\n",
        "from matplotlib import pyplot as plt\n",
        "from torchvision import utils\n",
        "\n",
        "'''\n",
        "STEP 1: LOADING DATASET\n",
        "'''\n",
        " \n",
        "train_dataset = dsets.CIFAR10(root='./data', \n",
        "                            train=True, \n",
        "                            transform=transforms.ToTensor(),\n",
        "                            download=True)\n",
        " \n",
        "test_dataset = dsets.CIFAR10(root='./data', \n",
        "                           train=False, \n",
        "                           transform=transforms.ToTensor())\n",
        "\n",
        " \n",
        "'''\n",
        "STEP 2: MAKING DATASET ITERABLE\n",
        "'''\n",
        " \n",
        "batch_size = 100\n",
        "n_iters = 6000\n",
        "num_epochs = n_iters / (len(train_dataset) / batch_size)\n",
        "num_epochs = int(num_epochs)\n",
        " \n",
        "train_loader = torch.utils.data.DataLoader(dataset=train_dataset, \n",
        "                                           batch_size=batch_size, \n",
        "                                           shuffle=True)\n",
        " \n",
        "test_loader = torch.utils.data.DataLoader(dataset=test_dataset, \n",
        "                                          batch_size=batch_size, \n",
        "                                          shuffle=False)\n",
        " \n",
        "'''\n",
        "STEP 3: CREATE MODEL CLASS\n",
        "'''\n",
        "class CNNModel(nn.Module):\n",
        "    def __init__(self, pooling=\"max\"):\n",
        "        super(CNNModel, self).__init__()\n",
        "        \n",
        "        self.pool = pooling\n",
        "        \n",
        "        print('Pooling method used is - ',self.pool)\n",
        "                   \n",
        "        # Convolution 1\n",
        "        self.cnn1 = nn.Conv2d(in_channels=3, out_channels=32, kernel_size=3, stride=1, padding=0)  \n",
        "        self.relu1 = nn.ReLU()\n",
        "         \n",
        "        # Pooling - Max or Avg\n",
        "        if self.pool == \"max\":\n",
        "          # Max pool\n",
        "          self.pooling = nn.MaxPool2d(kernel_size=2) \n",
        "        else:\n",
        "          # Avg pool\n",
        "          self.pooling = nn.AvgPool2d(kernel_size=2)\n",
        "      \n",
        "        # Convolution 2max\n",
        "        self.cnn2 = nn.Conv2d(in_channels=32, out_channels=64, kernel_size=4, stride=1, padding=0)\n",
        "        self.relu2 = nn.ReLU()\n",
        "      \n",
        "        # Fully connected 1 (readout)\n",
        "        self.fc1 = nn.Linear(64*6*6, 10) \n",
        "        \n",
        "  \n",
        "    \n",
        "    def forward(self, x):\n",
        "        \n",
        "        # Convolution 1\n",
        "        out = self.cnn1(x) \n",
        "        out = self.relu1(out) \n",
        "         \n",
        "        # Max or Avg pooling\n",
        "        out = self.pooling(out)\n",
        "         \n",
        "        # Convolution 2 \n",
        "        out = self.cnn2(out) \n",
        "        out = self.relu2(out) \n",
        "         \n",
        "        # Max or Avg pooling\n",
        "        out = self.pooling(out)\n",
        "\n",
        "        out = out.view(out.size(0), -1)   \n",
        " \n",
        "        # Linear function (readout)\n",
        "        out = self.fc1(out)\n",
        "         \n",
        "        return out\n",
        " \n",
        "'''\n",
        "STEP 4: INSTANTIATE MODEL CLASS\n",
        "'''\n",
        " \n",
        "model = CNNModel().float()\n",
        "\n",
        " \n",
        "if torch.cuda.is_available():\n",
        "    model.cuda()\n",
        " \n",
        "'''\n",
        "STEP 5: INSTANTIATE LOSS CLASS\n",
        "'''\n",
        "criterion = nn.CrossEntropyLoss()\n",
        " \n",
        " \n",
        "'''\n",
        "STEP 6: INSTANTIATE OPTIMIZER CLASS\n",
        "'''\n",
        "learning_rate = 0.01\n",
        " \n",
        "optimizer = torch.optim.SGD(model.parameters(), lr=learning_rate)\n",
        " \n",
        "'''\n",
        "STEP 7: TRAIN THE MODEL\n",
        "'''\n",
        "iter = 0\n",
        "\n",
        "for epoch in range(num_epochs):\n",
        "    for i, (images, labels) in enumerate(train_loader):\n",
        "         \n",
        "        if torch.cuda.is_available():\n",
        "            images = Variable(images.cuda())\n",
        "            labels = Variable(labels.cuda())\n",
        "        else:\n",
        "            images = Variable(images)\n",
        "            labels = Variable(labels)\n",
        "         \n",
        "        # Clear gradients w.r.t. parameters\n",
        "        optimizer.zero_grad()\n",
        "         \n",
        "        # Forward pass to get output/logits\n",
        "        outputs = model(images)\n",
        "         \n",
        "        # Calculate Loss: softmax --> cross entropy loss\n",
        "        loss = criterion(outputs, labels)\n",
        "         \n",
        "        # Getting gradients w.r.t. parameters\n",
        "        loss.backward()\n",
        "         \n",
        "        # Updating parameters\n",
        "        optimizer.step()\n",
        "         \n",
        "        iter += 1\n",
        "         \n",
        "        if iter % 500 == 0:\n",
        "            # Calculate Accuracy         \n",
        "            correct = 0\n",
        "            total = 0\n",
        "            # Iterate through test dataset\n",
        "            for images, labels in test_loader:\n",
        "                \n",
        "                if torch.cuda.is_available():\n",
        "                    images = Variable(images.cuda())\n",
        "                else:\n",
        "                    images = Variable(images)\n",
        "                 \n",
        "                # Forward pass only to get logits/output\n",
        "                outputs = model(images)\n",
        "                 \n",
        "                # Get predictions from the maximum value\n",
        "                _, predicted = torch.max(outputs.data, 1)\n",
        "                 \n",
        "                # Total number of labels\n",
        "                total += labels.size(0)\n",
        "                 \n",
        "                # Total correct predictions\n",
        "                if torch.cuda.is_available():\n",
        "                    correct += (predicted.cpu() == labels.cpu()).sum()\n",
        "                else:\n",
        "                    correct += (predicted == labels).sum()\n",
        "             \n",
        "            accuracy = 100 * correct / total\n",
        "             \n",
        "            # Print Loss\n",
        "            print('Iteration: {}. Loss: {}. Accuracy: {}'.format(iter, loss.data[0], accuracy))\n",
        "            \n",
        "   "
      ],
      "execution_count": 0,
      "outputs": [
        {
          "output_type": "stream",
          "text": [
            "Files already downloaded and verified\n",
            "Pooling method used is -  max\n"
          ],
          "name": "stdout"
        },
        {
          "output_type": "stream",
          "text": [
            "/usr/local/lib/python3.6/dist-packages/ipykernel_launcher.py:180: UserWarning: invalid index of a 0-dim tensor. This will be an error in PyTorch 0.5. Use tensor.item() to convert a 0-dim tensor to a Python number\n"
          ],
          "name": "stderr"
        },
        {
          "output_type": "stream",
          "text": [
            "Iteration: 500. Loss: 2.0434141159057617. Accuracy: 26\n",
            "Iteration: 1000. Loss: 1.85190749168396. Accuracy: 35\n",
            "Iteration: 1500. Loss: 1.6719717979431152. Accuracy: 38\n",
            "Iteration: 2000. Loss: 1.5508860349655151. Accuracy: 45\n",
            "Iteration: 2500. Loss: 1.4033410549163818. Accuracy: 47\n",
            "Iteration: 3000. Loss: 1.4879132509231567. Accuracy: 48\n",
            "Iteration: 3500. Loss: 1.2471907138824463. Accuracy: 50\n",
            "Iteration: 4000. Loss: 1.3360182046890259. Accuracy: 51\n",
            "Iteration: 4500. Loss: 1.403914451599121. Accuracy: 52\n",
            "Iteration: 5000. Loss: 1.2009496688842773. Accuracy: 53\n",
            "Iteration: 5500. Loss: 1.402686357498169. Accuracy: 53\n",
            "Iteration: 6000. Loss: 1.3218142986297607. Accuracy: 55\n"
          ],
          "name": "stdout"
        }
      ]
    },
    {
      "metadata": {
        "id": "z4nuGnvdVyKw",
        "colab_type": "code",
        "colab": {}
      },
      "cell_type": "code",
      "source": [
        "# Visualizing the Kernels\n",
        "\n",
        "def plot_kernels(tensor, n_cols):\n",
        "    n_kernels = tensor.shape[0]\n",
        "    n_rows = 1+ n_kernels // n_cols\n",
        "    fig = plt.figure(figsize=(n_cols,n_rows))\n",
        "    for i in range(n_kernels):\n",
        "        ax1 = fig.add_subplot(n_rows,n_cols,i+1)\n",
        "        ax1.imshow(tensor[i][0,:,:], cmap='gray')\n",
        "        ax1.axis('off')\n",
        "        ax1.set_xticklabels([])\n",
        "        ax1.set_yticklabels([])\n",
        "        \n",
        "    plt.subplots_adjust(wspace=0.3, hspace=0.3)\n",
        "    plt.show()\n",
        "    \n",
        "\n",
        "# Visualizing the output images of Convolutional Layer\n",
        "\n",
        "def plot_images(tensor, n_cols=10):\n",
        "  n_kernels = tensor.shape[0]\n",
        "  n_rows = 1+ n_kernels // n_cols\n",
        "  fig = plt.figure(figsize=(n_cols,n_rows))\n",
        "  for i in range(n_kernels):\n",
        "    ax1 = fig.add_subplot(n_rows,n_cols,i+1)\n",
        "    ax1.imshow(tensor[i], cmap='gray')\n",
        "    ax1.axis('off')\n",
        "    ax1.set_xticklabels([])\n",
        "    ax1.set_yticklabels([])\n",
        "    \n",
        "  plt.subplots_adjust(wspace=0.3, hspace=0.3)\n",
        "  plt.show()\n"
      ],
      "execution_count": 0,
      "outputs": []
    },
    {
      "metadata": {
        "id": "iDpB_HkAygKd",
        "colab_type": "code",
        "outputId": "510760ef-b044-4e5b-b66d-d717bd296807",
        "colab": {
          "base_uri": "https://localhost:8080/",
          "height": 744
        }
      },
      "cell_type": "code",
      "source": [
        "# Kernel Visualization\n",
        "print(\"Kernel Visualization\")\n",
        "filters = model.modules()\n",
        "model_layers = [i for i in model.children()]\n",
        "first_layer = model_layers[0]\n",
        "second_layer = model_layers[3]\n",
        "\n",
        "first_kernels = first_layer.weight.data.clone()\n",
        "print(first_kernels.shape)\n",
        "plot_kernels(first_kernels, 8)\n",
        "\n",
        "\n",
        "second_kernels = second_layer.weight.data.clone()\n",
        "print(second_kernels.shape)\n",
        "plot_kernels(second_kernels, 8)\n"
      ],
      "execution_count": 0,
      "outputs": [
        {
          "output_type": "stream",
          "text": [
            "Kernel Visualization\n",
            "torch.Size([32, 3, 3, 3])\n"
          ],
          "name": "stdout"
        },
        {
          "output_type": "display_data",
          "data": {
            "image/png": "[encoded data removed]",
            "text/plain": [
              "<matplotlib.figure.Figure at 0x7f98864d1710>"
            ]
          },
          "metadata": {
            "tags": []
          }
        },
        {
          "output_type": "stream",
          "text": [
            "torch.Size([64, 32, 4, 4])\n"
          ],
          "name": "stdout"
        },
        {
          "output_type": "display_data",
          "data": {
            "image/png": "[encoded data removed]",
            "text/plain": [
              "<matplotlib.figure.Figure at 0x7f986e0e7e48>"
            ]
          },
          "metadata": {
            "tags": []
          }
        }
      ]
    },
    {
      "metadata": {
        "id": "PPLOT1UJ9hF6",
        "colab_type": "code",
        "outputId": "8966a84f-9e4c-4cdb-cd70-059aba7eccb2",
        "colab": {
          "base_uri": "https://localhost:8080/",
          "height": 316
        }
      },
      "cell_type": "code",
      "source": [
        "# Image Visualization\n",
        "print(\"Image Visualization\")\n",
        "for images, labels in test_loader:\n",
        "  images = Variable(images.view(-1, 3*32*32))\n",
        "  image = images[0].view(1, 3, 32, 32).cuda()\n",
        "      \n",
        "out = model.cnn1(image)\n",
        "out = out.squeeze()\n",
        "\n",
        "# show images\n",
        "print(out.shape)\n",
        "print('Convolutional Output Layer - 1')\n",
        "plot_images(out.data.cpu().numpy())\n",
        "      \n",
        "out = model.pooling(model.relu1(out))\n",
        "           \n",
        "print(out.shape)\n",
        "#out = model.cnn2(out)\n",
        "#out = out.squeeze()\n",
        "      \n",
        "#print('Convolutional Output Layer - 2')\n",
        "#plot_images(out.data().cpu().numpy())"
      ],
      "execution_count": 0,
      "outputs": [
        {
          "output_type": "stream",
          "text": [
            "Image Visualization\n",
            "torch.Size([32, 30, 30])\n",
            "Convolutional Output Layer - 1\n"
          ],
          "name": "stdout"
        },
        {
          "output_type": "display_data",
          "data": {
            "image/png": "[encoded data removed]",
            "text/plain": [
              "<matplotlib.figure.Figure at 0x7f9880809a90>"
            ]
          },
          "metadata": {
            "tags": []
          }
        },
        {
          "output_type": "stream",
          "text": [
            "torch.Size([32, 15, 15])\n"
          ],
          "name": "stdout"
        }
      ]
    },
    {
      "metadata": {
        "id": "Jqtsk3INAgbM",
        "colab_type": "code",
        "colab": {}
      },
      "cell_type": "code",
      "source": [
        "# Max Pooling works better with CIFAR10\n",
        "  Pooling method used is -  avg\n",
        "Iteration: 500. Loss: 2.0478649139404297. Accuracy: 28\n",
        "Iteration: 1000. Loss: 1.9877116680145264. Accuracy: 34\n",
        "Iteration: 1500. Loss: 1.6705795526504517. Accuracy: 36\n",
        "Iteration: 2000. Loss: 1.7351396083831787. Accuracy: 40\n",
        "Iteration: 2500. Loss: 1.527145266532898. Accuracy: 41\n",
        "Iteration: 3000. Loss: 1.707576036453247. Accuracy: 39\n",
        "Iteration: 3500. Loss: 1.6119221448898315. Accuracy: 45\n",
        "Iteration: 4000. Loss: 1.4649723768234253. Accuracy: 45\n",
        "Iteration: 4500. Loss: 1.4537060260772705. Accuracy: 48\n",
        "Iteration: 5000. Loss: 1.4961973428726196. Accuracy: 49\n",
        "Iteration: 5500. Loss: 1.3070504665374756. Accuracy: 49\n",
        "Iteration: 6000. Loss: 1.318798542022705. Accuracy: 50\n",
        "      \n",
        "  Pooling method used is -  max\n",
        "Iteration: 500. Loss: 1.9730092287063599. Accuracy: 29\n",
        "Iteration: 1000. Loss: 1.7490320205688477. Accuracy: 38\n",
        "Iteration: 1500. Loss: 1.6110621690750122. Accuracy: 41\n",
        "Iteration: 2000. Loss: 1.9844233989715576. Accuracy: 44\n",
        "Iteration: 2500. Loss: 1.3778960704803467. Accuracy: 47\n",
        "Iteration: 3000. Loss: 1.5982863903045654. Accuracy: 48\n",
        "Iteration: 3500. Loss: 1.3600651025772095. Accuracy: 51\n",
        "Iteration: 4000. Loss: 1.5198498964309692. Accuracy: 52\n",
        "Iteration: 4500. Loss: 1.332473635673523. Accuracy: 52\n",
        "Iteration: 5000. Loss: 1.2608916759490967. Accuracy: 55\n",
        "Iteration: 5500. Loss: 1.230204701423645. Accuracy: 53\n",
        "Iteration: 6000. Loss: 1.2494070529937744. Accuracy: 56\n",
        "      \n"
      ],
      "execution_count": 0,
      "outputs": []
    }
  ]
}