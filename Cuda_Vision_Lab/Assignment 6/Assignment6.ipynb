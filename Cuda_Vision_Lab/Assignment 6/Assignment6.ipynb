{
  "nbformat": 4,
  "nbformat_minor": 0,
  "metadata": {
    "colab": {
      "name": "Assignment6",
      "version": "0.3.2",
      "provenance": [],
      "collapsed_sections": []
    },
    "kernelspec": {
      "name": "python2",
      "display_name": "Python 2"
    },
    "accelerator": "GPU"
  },
  "cells": [
    {
      "metadata": {
        "id": "oEqk2NNSWt8Z",
        "colab_type": "code",
        "outputId": "6eca47ee-d26e-4884-cf1a-5531e1003bc7",
        "colab": {
          "base_uri": "https://localhost:8080/",
          "height": 55
        }
      },
      "cell_type": "code",
      "source": [
        "# http://pytorch.org/\n",
        "from os.path import exists\n",
        "from wheel.pep425tags import get_abbr_impl, get_impl_ver, get_abi_tag\n",
        "platform = '{}{}-{}'.format(get_abbr_impl(), get_impl_ver(), get_abi_tag())\n",
        "cuda_output = !ldconfig -p|grep cudart.so|sed -e 's/.*\\.\\([0-9]*\\)\\.\\([0-9]*\\)$/cu\\1\\2/'\n",
        "accelerator = cuda_output[0] if exists('/dev/nvidia0') else 'cpu'\n",
        "\n",
        "!pip install -q http://download.pytorch.org/whl/{accelerator}/torch-0.4.1-{platform}-linux_x86_64.whl torchvision\n",
        "import torch"
      ],
      "execution_count": 0,
      "outputs": [
        {
          "output_type": "stream",
          "text": [
            "tcmalloc: large alloc 1073750016 bytes == 0x562634048000 @  0x7f10fe3c82a4 0x5625dcc71f18 0x5625dcd65a85 0x5625dcc854ca 0x5625dcc8a232 0x5625dcc82d0a 0x5625dcc8a5fe 0x5625dcc82d0a 0x5625dcc8a5fe 0x5625dcc82d0a 0x5625dcc8a5fe 0x5625dcc82d0a 0x5625dcc8ac38 0x5625dcc82d0a 0x5625dcc8a5fe 0x5625dcc82d0a 0x5625dcc8a5fe 0x5625dcc8a232 0x5625dcc8a232 0x5625dcc82d0a 0x5625dcc8ac38 0x5625dcc8a232 0x5625dcc82d0a 0x5625dcc8ac38 0x5625dcc82d0a 0x5625dcc8ac38 0x5625dcc82d0a 0x5625dcc8a5fe 0x5625dcc82d0a 0x5625dcc82629 0x5625dccb361f\n"
          ],
          "name": "stdout"
        }
      ]
    },
    {
      "metadata": {
        "id": "oDL3KhZTQ1-_",
        "colab_type": "code",
        "colab": {}
      },
      "cell_type": "code",
      "source": [
        "import torch\n",
        "import torch.nn as nn\n",
        "import torch.utils as utils\n",
        "from torch.autograd import Variable\n",
        "import torchvision.datasets as dsets\n",
        "import torchvision.transforms as transforms\n",
        "import matplotlib.pyplot as plt\n",
        "import os\n",
        "%matplotlib inline"
      ],
      "execution_count": 0,
      "outputs": []
    },
    {
      "metadata": {
        "id": "a2tC_7O1WqxV",
        "colab_type": "code",
        "outputId": "928565c7-c291-4223-f846-9dc6a5df8699",
        "colab": {
          "base_uri": "https://localhost:8080/",
          "height": 35
        }
      },
      "cell_type": "code",
      "source": [
        "# Hyperparameters\n",
        "\n",
        "epochs = 10\n",
        "batch_size =100\n",
        "learning_rate = 0.001\n",
        "\n",
        "# Loading the Dataset\n",
        "\n",
        "train_dataset = dsets.CIFAR10(root='./data', \n",
        "                            train=True, \n",
        "                            transform=transforms.ToTensor(),\n",
        "                            download=True)\n",
        " \n",
        "test_dataset = dsets.CIFAR10(root='./data', \n",
        "                           train=False, \n",
        "                           transform=transforms.ToTensor())\n",
        "\n",
        "\n",
        "\n",
        "train_loader = torch.utils.data.DataLoader(dataset=train_dataset, \n",
        "                                           batch_size=batch_size, \n",
        "                                           shuffle=True)\n",
        " \n",
        "test_loader = torch.utils.data.DataLoader(dataset=test_dataset, \n",
        "                                          batch_size=batch_size, \n",
        "                                          shuffle=False)\n"
      ],
      "execution_count": 0,
      "outputs": [
        {
          "output_type": "stream",
          "text": [
            "Files already downloaded and verified\n"
          ],
          "name": "stdout"
        }
      ]
    },
    {
      "metadata": {
        "id": "odz5aGPgXNZn",
        "colab_type": "code",
        "colab": {}
      },
      "cell_type": "code",
      "source": [
        "# Encoder \n",
        "\n",
        "class Encoder(nn.Module):\n",
        "    def __init__(self):\n",
        "        super(Encoder,self).__init__()\n",
        "        self.layer1 = nn.Sequential(\n",
        "            # batch x 32 x 30 x 30\n",
        "            nn.Conv2d(in_channels=3, out_channels=32, kernel_size=3, stride=1, padding=0), \n",
        "            nn.ReLU(),\n",
        "            nn.BatchNorm2d(32),\n",
        "            nn.Conv2d(32,32,3,padding=0),  \n",
        "            nn.ReLU(),\n",
        "            nn.BatchNorm2d(32),\n",
        "            nn.Conv2d(32,64,3,padding=0),  \n",
        "            nn.ReLU()\n",
        "            )\n",
        "        self.layer2 = nn.Sequential(\n",
        "            \n",
        "            nn.Conv2d(64,64,3,padding=0),  \n",
        "            nn.ReLU(),\n",
        "            nn.BatchNorm2d(64),\n",
        "            nn.Conv2d(64,128,3,padding=0),  \n",
        "            nn.ReLU(),\n",
        "            nn.BatchNorm2d(128),\n",
        "            nn.Conv2d(128,128,3,padding=0),  \n",
        "            nn.ReLU()\n",
        "            \n",
        "        )\n",
        "                   \n",
        "    def forward(self,x):\n",
        "        out = self.layer1(x)\n",
        "        out = self.layer2(out)\n",
        "        out = out.view(batch_size, -1)\n",
        "        return out\n",
        "    \n",
        "encoder = Encoder().cuda().float()"
      ],
      "execution_count": 0,
      "outputs": []
    },
    {
      "metadata": {
        "id": "QOg8Dc44aCjM",
        "colab_type": "code",
        "colab": {}
      },
      "cell_type": "code",
      "source": [
        "# Decoder\n",
        "\n",
        "class Decoder(nn.Module):\n",
        "    def __init__(self):\n",
        "        super(Decoder,self).__init__()\n",
        "        self.layer1 = nn.Sequential(\n",
        "                        nn.ConvTranspose2d(128,128,3,1,0),\n",
        "                        nn.ReLU(),\n",
        "                        nn.BatchNorm2d(128),\n",
        "                        nn.ConvTranspose2d(128,64,3,1,0),\n",
        "                        nn.ReLU(),\n",
        "                        nn.BatchNorm2d(64),\n",
        "                        nn.ConvTranspose2d(64,64,3,1,0),\n",
        "                        nn.ReLU(),\n",
        "        )\n",
        "        self.layer2 = nn.Sequential(\n",
        "                        nn.ConvTranspose2d(64,32,3,1,0),\n",
        "                        nn.ReLU(),\n",
        "                        nn.BatchNorm2d(32),\n",
        "                        nn.ConvTranspose2d(32,32,3,1,0),\n",
        "                        nn.ReLU(),\n",
        "                        nn.BatchNorm2d(32),\n",
        "                        nn.ConvTranspose2d(32,3,3,1,0,0),\n",
        "                        nn.ReLU()\n",
        "        )\n",
        "        \n",
        "    def forward(self,x):\n",
        "        out = x.view(batch_size,128,20,20)\n",
        "        out = self.layer1(out)\n",
        "        out = self.layer2(out)\n",
        "        return out\n",
        "\n",
        "decoder = Decoder().cuda().float()"
      ],
      "execution_count": 0,
      "outputs": []
    },
    {
      "metadata": {
        "id": "QM0-mz5m93ps",
        "colab_type": "code",
        "colab": {}
      },
      "cell_type": "code",
      "source": [
        "# Loss function and Optimizer\n",
        "\n",
        "parameters = list(encoder.parameters())+ list(decoder.parameters())\n",
        "loss_func = nn.MSELoss()\n",
        "optimizer = torch.optim.Adam(parameters, lr=learning_rate)"
      ],
      "execution_count": 0,
      "outputs": []
    },
    {
      "metadata": {
        "id": "-fF6GdPKdbyX",
        "colab_type": "code",
        "outputId": "1ac7aebd-93a6-4b6a-a308-18335a5c496e",
        "colab": {
          "base_uri": "https://localhost:8080/",
          "height": 55
        }
      },
      "cell_type": "code",
      "source": [
        "from google.colab import drive\n",
        "drive.mount('/content/drive')"
      ],
      "execution_count": 0,
      "outputs": [
        {
          "output_type": "stream",
          "text": [
            "Drive already mounted at /content/drive; to attempt to forcibly remount, call drive.mount(\"/content/drive\", force_remount=True).\n"
          ],
          "name": "stdout"
        }
      ]
    },
    {
      "metadata": {
        "id": "G_V4UKDiZyiE",
        "colab_type": "code",
        "outputId": "f7bfdafe-f113-4109-f735-36c138833396",
        "colab": {
          "base_uri": "https://localhost:8080/",
          "height": 297
        }
      },
      "cell_type": "code",
      "source": [
        "# Training Encoder and Decoder\n",
        "\n",
        "if not os.path.exists('./model'):\n",
        "    os.mkdir('./model')\n",
        "try:\n",
        "    encoder, decoder = torch.load('./model/deno_autoencoder.pkl')\n",
        "    print(\"\\n--------model restored--------\\n\")\n",
        "except:\n",
        "    print(\"\\n--------model not restored--------\\n\")\n",
        "    pass\n",
        "\n",
        "for i in range(epochs):\n",
        "    for image,label in train_loader:\n",
        "      \n",
        "        image_n = torch.mul(image+0.25, 0.1 * torch.rand(batch_size,3,32,32))\n",
        "        image = Variable(image).cuda()\n",
        "        image_n = Variable(image_n).cuda()\n",
        "                \n",
        "        optimizer.zero_grad()\n",
        "        output = encoder(image_n)\n",
        "        output = decoder(output)\n",
        "        \n",
        "        loss = loss_func(output,image)\n",
        "        loss.backward()\n",
        "        optimizer.step()\n",
        "        \n",
        "    print('epoch [{}/{}], loss:{:.4f}'\n",
        "          .format(i + 1, epochs, loss.data[0]))       \n",
        "                \n",
        "torch.save([encoder,decoder],'./model/deno_autoencoder.pkl')\n",
        "print(loss)"
      ],
      "execution_count": 0,
      "outputs": [
        {
          "output_type": "stream",
          "text": [
            "\n",
            "--------model restored--------\n",
            "\n"
          ],
          "name": "stdout"
        },
        {
          "output_type": "stream",
          "text": [
            "/usr/local/lib/python2.7/dist-packages/ipykernel_launcher.py:28: UserWarning: invalid index of a 0-dim tensor. This will be an error in PyTorch 0.5. Use tensor.item() to convert a 0-dim tensor to a Python number\n"
          ],
          "name": "stderr"
        },
        {
          "output_type": "stream",
          "text": [
            "epoch [1/10], loss:0.0097\n",
            "epoch [2/10], loss:0.0082\n",
            "epoch [3/10], loss:0.0094\n",
            "epoch [4/10], loss:0.0098\n",
            "epoch [5/10], loss:0.0093\n",
            "epoch [6/10], loss:0.0094\n",
            "epoch [7/10], loss:0.0087\n",
            "epoch [8/10], loss:0.0092\n",
            "epoch [9/10], loss:0.0087\n",
            "epoch [10/10], loss:0.0109\n",
            "tensor(0.0109, device='cuda:0', grad_fn=<MseLossBackward>)\n"
          ],
          "name": "stdout"
        }
      ]
    },
    {
      "metadata": {
        "id": "KH0MEINi-zYJ",
        "colab_type": "code",
        "colab": {}
      },
      "cell_type": "code",
      "source": [
        "def plot_images(tensor, n_cols=30):\n",
        "  n_kernels = tensor.shape[0]\n",
        "  n_rows = 1+ n_kernels // n_cols\n",
        "  fig = plt.figure(figsize=(n_cols,n_rows))\n",
        "  for i in range(n_kernels):\n",
        "    ax1 = fig.add_subplot(n_rows,n_cols,i+1)\n",
        "    ax1.imshow(tensor[i], cmap='gray')\n",
        "    ax1.axis('off')\n",
        "    ax1.set_xticklabels([])\n",
        "    ax1.set_yticklabels([])\n",
        "    \n",
        "  plt.subplots_adjust(wspace=1, hspace=1)\n",
        "  plt.show()"
      ],
      "execution_count": 0,
      "outputs": []
    },
    {
      "metadata": {
        "id": "3EhQnsvG1Grk",
        "colab_type": "code",
        "outputId": "07c61107-3b36-4c11-ebcf-18e0d7295999",
        "colab": {
          "base_uri": "https://localhost:8080/",
          "height": 909
        }
      },
      "cell_type": "code",
      "source": [
        "# Output of Convolutional AutoEncoder\n",
        "# Plotting original image, image with noise and denoised image\n",
        "\n",
        "img = image[0].cpu()\n",
        "input_img = image_n[0].cpu()\n",
        "output_img = output[0].cpu()\n",
        "\n",
        "origin = img.data.numpy()\n",
        "inp = input_img.data.numpy()\n",
        "out = output_img.data.numpy()\n",
        "\n",
        "plot_images(origin)\n",
        "plot_images(inp)\n",
        "plot_images(out)\n",
        "\n",
        "plt.imshow(origin[0], cmap='pink')\n",
        "plt.show()\n",
        "\n",
        "plt.imshow(inp[0], cmap='pink')\n",
        "plt.show()\n",
        "\n",
        "plt.imshow(out[0], cmap='pink')\n",
        "plt.show()\n",
        "\n",
        "print(label[0])"
      ],
      "execution_count": 0,
      "outputs": [
        {
          "output_type": "display_data",
          "data": {
            "image/png": "[encoded data removed]",
            "text/plain": [
              "<matplotlib.figure.Figure at 0x7fe86b7d0390>"
            ]
          },
          "metadata": {
            "tags": []
          }
        },
        {
          "output_type": "display_data",
          "data": {
            "image/png": "[encoded data removed]",
            "text/plain": [
              "<matplotlib.figure.Figure at 0x7fe86b609f50>"
            ]
          },
          "metadata": {
            "tags": []
          }
        },
        {
          "output_type": "display_data",
          "data": {
            "image/png": "[encoded data removed]",
            "text/plain": [
              "<matplotlib.figure.Figure at 0x7fe86b94c0d0>"
            ]
          },
          "metadata": {
            "tags": []
          }
        },
        {
          "output_type": "display_data",
          "data": {
            "image/png": "[encoded data removed]",
            "text/plain": [
              "<matplotlib.figure.Figure at 0x7fe86b94c8d0>"
            ]
          },
          "metadata": {
            "tags": []
          }
        },
        {
          "output_type": "display_data",
          "data": {
            "image/png": "[encoded data removed]",
            "text/plain": [
              "<matplotlib.figure.Figure at 0x7fe880065290>"
            ]
          },
          "metadata": {
            "tags": []
          }
        },
        {
          "output_type": "display_data",
          "data": {
            "image/png": "[encoded data removed]",
            "text/plain": [
              "<matplotlib.figure.Figure at 0x7fe86b942710>"
            ]
          },
          "metadata": {
            "tags": []
          }
        },
        {
          "output_type": "stream",
          "text": [
            "tensor(1)\n"
          ],
          "name": "stdout"
        }
      ]
    }
  ]
}