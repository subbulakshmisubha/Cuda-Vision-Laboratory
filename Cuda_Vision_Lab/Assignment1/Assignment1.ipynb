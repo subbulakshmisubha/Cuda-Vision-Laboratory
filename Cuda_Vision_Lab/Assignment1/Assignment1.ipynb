{
  "nbformat": 4,
  "nbformat_minor": 0,
  "metadata": {
    "colab": {
      "name": "Assignment1.ipynb",
      "version": "0.3.2",
      "provenance": []
    },
    "kernelspec": {
      "display_name": "Python 2",
      "language": "python",
      "name": "python2"
    }
  },
  "cells": [
    {
      "metadata": {
        "id": "_X_byZiltyHf",
        "colab_type": "code",
        "colab": {},
        "outputId": "ba643c28-3b6e-4329-d8d1-1225585adbbb"
      },
      "cell_type": "code",
      "source": [
        "# Assignment 1 \n",
        "\n",
        "import os, struct\n",
        "from array import array as pyarray\n",
        "from numpy import  array, zeros\n",
        "import numpy as np\n",
        "\n",
        "def load_mnist(dataset, digits=np.arange(10), path=\"/home/manoj/Documents/Sem 3/CUDA_LabVision/Session 1/data/data/\"):\n",
        "    \n",
        "    if dataset == \"training\":\n",
        "        fname_img = os.path.join(path, 'train-images-idx3-ubyte')\n",
        "        fname_lbl = os.path.join(path, 'train-labels-idx1-ubyte')\n",
        "    elif dataset == \"testing\":\n",
        "        fname_img = os.path.join(path, 't10k-images-idx3-ubyte')\n",
        "        fname_lbl = os.path.join(path, 't10k-labels-idx1-ubyte')\n",
        "    else:\n",
        "        raise ValueError(\"dataset must be 'testing' or 'training'\")\n",
        "\n",
        "    flbl = open(fname_lbl, 'rb')\n",
        "    magic_nr, size = struct.unpack(\">II\", flbl.read(8))\n",
        "    lbl = pyarray(\"b\", flbl.read())\n",
        "    flbl.close()\n",
        "\n",
        "    fimg = open(fname_img, 'rb')\n",
        "    magic_nr, size, rows, cols = struct.unpack(\">IIII\", fimg.read(16))\n",
        "    img = pyarray(\"B\", fimg.read())\n",
        "    fimg.close()\n",
        "\n",
        "    ind = [ k for k in range(size) if lbl[k] in digits ]\n",
        "    N = len(ind)\n",
        "\n",
        "    images = zeros((N, rows, cols) )\n",
        "    labels = zeros((N ) )\n",
        "    for i in range(len(ind)):\n",
        "        images[i] = array(img[ ind[i]*rows*cols : (ind[i]+1)*rows*cols ]).reshape((rows, cols))\n",
        "        labels[i] = lbl[ind[i]]\n",
        "\n",
        "    return images, labels\n",
        "    \n",
        "train_images , train_labels = load_mnist(\"training\")\n",
        "test_images , test_labels = load_mnist(\"testing\")\n",
        "\n",
        "\n",
        "train_x = train_images.reshape(60000,784)\n",
        "train_y = train_labels\n",
        "test_x = test_images.reshape(10000,784)\n",
        "test_y = test_labels\n",
        "\n",
        "train_x /= 255.\n",
        "test_x /= 255.\n",
        "print train_x.shape, train_labels.shape, test_x.shape, test_labels.shape "
      ],
      "execution_count": 0,
      "outputs": [
        {
          "output_type": "stream",
          "text": [
            "(60000, 784) (60000,) (10000, 784) (10000,)\n"
          ],
          "name": "stdout"
        }
      ]
    },
    {
      "metadata": {
        "id": "kqQ5v8h7tyH-",
        "colab_type": "code",
        "colab": {}
      },
      "cell_type": "code",
      "source": [
        "# Softmax Activation(y = Wx+b)\n",
        "\n",
        "def softmax(x):\n",
        "    x -= np.max(x)\n",
        "    sm = (np.exp(x).T / np.sum(np.exp(x))).T\n",
        "    return np.argmax(sm)\n"
      ],
      "execution_count": 0,
      "outputs": []
    },
    {
      "metadata": {
        "id": "YI0bvrDptyIM",
        "colab_type": "code",
        "colab": {}
      },
      "cell_type": "code",
      "source": [
        "# MSE\n",
        "\n",
        "def MSE(y,batch_y):\n",
        "    y = y.T\n",
        "    error = (batch_y - y) \n",
        "    return error\n"
      ],
      "execution_count": 0,
      "outputs": []
    },
    {
      "metadata": {
        "id": "BdgVTNvZtyIe",
        "colab_type": "code",
        "colab": {}
      },
      "cell_type": "code",
      "source": [
        "# Training the network\n",
        "\n",
        "def train_network(batch_x,batch_y, W): \n",
        "    for epoch in range(100):  \n",
        "        inputs = batch_x\n",
        "        # feedforward step 1\n",
        "        XW = np.dot(inputs , W) + b\n",
        "        # feedforward step 2\n",
        "        y = softmax(XW)\n",
        "        # backpropagation step 1\n",
        "        error_computed = MSE(y,batch_y)\n",
        "        W = update_weights(error_computed, inputs, W)\n",
        "        return W"
      ],
      "execution_count": 0,
      "outputs": []
    },
    {
      "metadata": {
        "id": "vhi1lCf-tyIp",
        "colab_type": "code",
        "colab": {}
      },
      "cell_type": "code",
      "source": [
        "# Initialization of weights\n",
        "\n",
        "import numpy as np\n",
        "np.random.seed(1)\n",
        "\n",
        "# Weight\n",
        "W = np.random.rand(train_x.shape[1])\n",
        "\n",
        "# Bias\n",
        "b = np.zeros((1,1))\n",
        "\n",
        "# Learning rate\n",
        "learning_rate = 0.001\n",
        "batch_size_each = 20\n",
        "for k in range(1):\n",
        "    for j in range(len(train_x)):\n",
        "        if (j == 0):\n",
        "            batch = train_x[:batch_size_each]\n",
        "            batch_y = train_y[:batch_size_each]\n",
        "        elif(j%20 == 0):\n",
        "            batch = train_x[j-20:j]\n",
        "            batch_y = train_y[j-20:j]\n",
        "        W=train_network(batch,batch_y, W)"
      ],
      "execution_count": 0,
      "outputs": []
    },
    {
      "metadata": {
        "id": "kFV_BdAityI2",
        "colab_type": "code",
        "colab": {}
      },
      "cell_type": "code",
      "source": [
        "# Update Weights\n",
        "\n",
        "def update_weights(error,batch_x, W):\n",
        "    delta = np.dot(batch_x.T,error)\n",
        "    W+= delta\n",
        "    return W"
      ],
      "execution_count": 0,
      "outputs": []
    },
    {
      "metadata": {
        "id": "9FgsfuHityJB",
        "colab_type": "code",
        "colab": {},
        "outputId": "0fbbf201-30d1-4c0d-c04e-0252dcc799fb"
      },
      "cell_type": "code",
      "source": [
        "# Test dataset prediction\n",
        "\n",
        "actual_y = softmax(np.dot(test_x,W)+b)\n",
        "np.equal(actual_y,test_y)\n",
        "a,b=np.unique(actual_y,return_counts=True)\n",
        "test_y.astype(float)\n",
        "accurate_predictions = (len(test_y)-a[0])*100/len(test_y)\n",
        "accurate_predictions"
      ],
      "execution_count": 0,
      "outputs": [
        {
          "output_type": "execute_result",
          "data": {
            "text/plain": [
              "74"
            ]
          },
          "metadata": {
            "tags": []
          },
          "execution_count": 116
        }
      ]
    }
  ]
}